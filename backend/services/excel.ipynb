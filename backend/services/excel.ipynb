{
 "cells": [
  {
   "cell_type": "code",
   "execution_count": 64,
   "metadata": {},
   "outputs": [],
   "source": [
    "import pandas as pd"
   ]
  },
  {
   "cell_type": "code",
   "execution_count": 65,
   "metadata": {},
   "outputs": [],
   "source": [
    "df = pd.DataFrame()\n",
    "\n",
    "pollutants = [['Источники выбросов ЗВ', \n",
    "              'Объем сожженного газа (тыс*м3)', \n",
    "              'Тип топлива', 'Плотность газа (кг/м3)',\n",
    "             'Доля N в газе   (% масс)', 'Доля S в газе   (% масс)', 'Доля C в газе   (% масс)',\n",
    "             'Выбросы NO2 (тонн)', 'Выбросы NO (тонн)',\n",
    "             'Выбросы SO2 (тонн)', 'Выбросы CO (тонн)',\n",
    "             'Всего выбросов ЗВ (тонн)'],\n",
    "             ['ГТЭС', 123, 'очищенный газ', 0.766, \n",
    "              0.342, 0.4353, 0.0012, 45, 3, 4, 5, 8],\n",
    "             ['Турбины по закачке газа', 234, 'очищенный газ',\n",
    "              0.766, 0.232, 0.5463, 0.0032, 4, 6, 7, 2, 3],\n",
    "            ['Котлы высокого давления', 567, 'очищенный газ', \n",
    "             0.766, 0.6632, 0.8463, 0.0552, 7, 63, 72, 23, 443]]"
   ]
  },
  {
   "cell_type": "code",
   "execution_count": 66,
   "metadata": {},
   "outputs": [],
   "source": [
    "OFFSET_COL = 2\n",
    "OFFSET_ROW = 2"
   ]
  },
  {
   "cell_type": "code",
   "execution_count": 67,
   "metadata": {},
   "outputs": [],
   "source": [
    "writer = pd.ExcelWriter('report.xlsx', engine='xlsxwriter')\n",
    "\n",
    "df.to_excel(writer, sheet_name='Sheet1', index=False)\n",
    "\n",
    "workbook  = writer.book\n",
    "worksheet = writer.sheets['Sheet1']"
   ]
  },
  {
   "cell_type": "code",
   "execution_count": 68,
   "metadata": {},
   "outputs": [],
   "source": [
    "header_format = workbook.add_format({\n",
    "    'bold': True,\n",
    "    'text_wrap': True,\n",
    "    'valign': 'top',\n",
    "    'border': 1,\n",
    "    'bg_color':'#8FC1E7'\n",
    "})\n",
    "\n",
    "field_format = workbook.add_format({\n",
    "    'text_wrap': True,\n",
    "    'valign': 'top',\n",
    "    'border': 1,\n",
    "    'bg_color':'#F7F7F7'\n",
    "})\n",
    "\n",
    "field_format_polutants = workbook.add_format({\n",
    "    'text_wrap': True,\n",
    "    'valign': 'top',\n",
    "    'border': 1,\n",
    "    'bg_color':'#D6E9F8',\n",
    "})\n",
    "\n",
    "field_format_total = workbook.add_format({\n",
    "    'text_wrap': True,\n",
    "    'valign': 'top',\n",
    "    'border': 1,\n",
    "    'bg_color':'#F4EED1',\n",
    "})\n",
    "\n",
    "title_format = workbook.add_format({\n",
    "    'bold': True,\n",
    "    'font_size': 18,\n",
    "})"
   ]
  },
  {
   "cell_type": "code",
   "execution_count": 69,
   "metadata": {},
   "outputs": [
    {
     "data": {
      "text/plain": [
       "0"
      ]
     },
     "execution_count": 69,
     "metadata": {},
     "output_type": "execute_result"
    }
   ],
   "source": [
    "arr = pollutants[0]\n",
    "for j in range(len(arr)):\n",
    "    if j == 0:\n",
    "        worksheet.set_column(OFFSET_ROW, j + OFFSET_COL, len(arr[j]) / 1.5)\n",
    "    else:\n",
    "        worksheet.set_column(OFFSET_ROW, j + OFFSET_COL, len(arr[j]) / 1.6)\n",
    "            \n",
    "worksheet.set_row(OFFSET_ROW, 47)"
   ]
  },
  {
   "cell_type": "code",
   "execution_count": 70,
   "metadata": {},
   "outputs": [],
   "source": [
    "def worksheet_write(field_format):\n",
    "    worksheet.write(row, j + OFFSET_COL, i[j], field_format)\n",
    "\n",
    "def worksheet_write_formula(formula, field_format):\n",
    "    worksheet.write_formula(row, j + OFFSET_COL, formula, field_format)"
   ]
  },
  {
   "cell_type": "code",
   "execution_count": 71,
   "metadata": {},
   "outputs": [],
   "source": [
    "row = OFFSET_ROW\n",
    "\n",
    "for i in pollutants:\n",
    "    for j in range(len(i)):\n",
    "        if row == OFFSET_ROW:\n",
    "            worksheet_write(header_format) \n",
    "\n",
    "        elif (row != OFFSET_ROW) and (7 <= j < len(i) - 1):\n",
    "            cells = ['G', 'G', 'H', 'I'] # клетки в которых записаны доли хим. элементов в газе\n",
    "            ci = j - 7\n",
    "            rowNum: str = str(row + 1)\n",
    "            formula = f'=ROUND(D{rowNum}*F{rowNum}*{cells[ci]}{rowNum}, 2)'\n",
    "            worksheet_write_formula(formula, field_format_polutants) \n",
    "\n",
    "        elif j == len(i) - 1:\n",
    "            formula = f'=SUM(J{str(row + 1)}:M{str(row + 1)})'\n",
    "            worksheet_write_formula(formula, field_format_total)\n",
    "            \n",
    "        else:\n",
    "            worksheet_write(field_format) \n",
    "\n",
    "\n",
    "    row += 1"
   ]
  },
  {
   "cell_type": "code",
   "execution_count": 72,
   "metadata": {},
   "outputs": [
    {
     "data": {
      "text/plain": [
       "0"
      ]
     },
     "execution_count": 72,
     "metadata": {},
     "output_type": "execute_result"
    }
   ],
   "source": [
    "title1 = 'Расчет выбросов ЗВ'\n",
    "worksheet.write(OFFSET_ROW - 2, 5 + OFFSET_COL, title1, title_format)\n",
    "worksheet.set_column(OFFSET_ROW - 2, 5 + OFFSET_COL, len(title1) - 3)"
   ]
  },
  {
   "cell_type": "code",
   "execution_count": 73,
   "metadata": {},
   "outputs": [],
   "source": [
    "header_format_grhs = workbook.add_format({\n",
    "    'bold': True,\n",
    "    'text_wrap': True,\n",
    "    'valign': 'top',\n",
    "    'border': 1,\n",
    "    'bg_color':'#E4B3B3'\n",
    "})\n",
    "\n",
    "\n",
    "field_format_grhs = workbook.add_format({\n",
    "    'text_wrap': True,\n",
    "    'valign': 'top',\n",
    "    'border': 1,\n",
    "    'bg_color':'#FFE7E7',\n",
    "})"
   ]
  },
  {
   "cell_type": "code",
   "execution_count": 74,
   "metadata": {},
   "outputs": [],
   "source": [
    "grhsGases = [['Источники выбросов ПГ', \n",
    "              'Объем сожженного газа (тыс*м3)', \n",
    "              'Тип топлива', 'Плотность газа (кг/м3)',\n",
    "             'Низшая теплота сгорания Q (ГДж/т)',\n",
    "             'Фактор эмиссии CO2 (тCO2/TДж)',\n",
    "             'Удельный коэффициент CH4',\n",
    "             'Удельный коэффициент N2O',\n",
    "             'Выбросы CO2 (тонн)',\n",
    "             'Выбросы CH4 (тонн)',\n",
    "             'Выбросы N2O (тонн)',\n",
    "             'Всего выбросов ПГ (тонн)'],\n",
    "             ['ГТЭС', 123, 'очищенный газ', 0.766, \n",
    "              45.71, 57.96, 4, 1, 2, 0.1, 3, 32],\n",
    "             ['Турбины по закачке газа', 331, 'очищенный газ', 0.766, \n",
    "              45.71, 57.96, 4, 1, 2, 4, 5, 52],\n",
    "            ['Котлы высокого давления', 567, 'очищенный газ', 0.766, \n",
    "              45.71, 57.96, 4, 1, 2, 0.13, 43, 56]]\n",
    "\n",
    "row = OFFSET_ROW + 8\n",
    "\n",
    "worksheet.set_column(\n",
    "    OFFSET_ROW + 8, len(grhsGases[0])\n",
    "    + OFFSET_COL, len(grhsGases[0][-1]) / 2\n",
    ")\n",
    "\n",
    "for i in grhsGases:\n",
    "    for j in range(len(i)):\n",
    "        \n",
    "        if row == OFFSET_ROW + 8:\n",
    "            worksheet_write(header_format_grhs)\n",
    "\n",
    "        elif (row != OFFSET_ROW + 8) and (8 <= j < len(i) - 1):\n",
    "            cells = ['H', 'I', 'J']\n",
    "            ci = j - 8\n",
    "            rowNum: str = str(row + 1)\n",
    "            formula = f'=ROUND(D{rowNum}*F{rowNum}*G{rowNum}*{cells[ci]}{rowNum}, 2)'\n",
    "            worksheet_write_formula(formula, field_format_grhs)\n",
    "\n",
    "        elif j == len(i) - 1:\n",
    "            formula = f'=SUM(K{str(row + 1)}:M{str(row + 1)})'\n",
    "            worksheet_write_formula(formula, field_format_total)\n",
    "            \n",
    "        else:\n",
    "            worksheet_write(field_format)\n",
    "            \n",
    "    row += 1"
   ]
  },
  {
   "cell_type": "code",
   "execution_count": 75,
   "metadata": {},
   "outputs": [
    {
     "data": {
      "text/plain": [
       "0"
      ]
     },
     "execution_count": 75,
     "metadata": {},
     "output_type": "execute_result"
    }
   ],
   "source": [
    "title2 = 'Расчет выбросов ПГ'\n",
    "worksheet.write(OFFSET_ROW + 6, 5 + OFFSET_COL, title2, title_format)\n",
    "worksheet.set_column(OFFSET_ROW + 6, 5 + OFFSET_COL, len(title2) - 3)"
   ]
  },
  {
   "cell_type": "code",
   "execution_count": 76,
   "metadata": {},
   "outputs": [],
   "source": [
    "energyPP = [['Источник потребления энергии','Время работы (часы)',\n",
    "            'Объем сожженного газа (тыс*м3)', 'Выработанная электроэнергия (МВт*ч)',\n",
    "            'Показатель энергоэффективности (м3 ТГ/МВт)'],\n",
    "            ['ГТЭС', 123, 54, 456, 452]]\n",
    "\n",
    "energyComp = [['Источник потребления энергии', 'Время работы (часы)',\n",
    "          'Объем сожженного газа (тыс*м3)', 'Объем закаченного газа (тыс*м3)', \n",
    "          'Показатель энергоэффективности (м3 ТГ/м3 СГ)'],\n",
    "              ['Турбины по закачке газа', 124, 432, 543, 145]]\n",
    "\n",
    "energyBoil = [['Источник потребления энергии', 'Время работы (часы)',\n",
    "          'Объем сожженного газа (тыс*м3)', 'Объем пара (тонн)', \n",
    "          'Показатель энергоэффективности (м3 ТГ/м3 тонна пара)'],\n",
    "              ['Котлы высокого давления', 124, 323, 451, 112]]"
   ]
  },
  {
   "cell_type": "code",
   "execution_count": 77,
   "metadata": {},
   "outputs": [],
   "source": [
    "header_format_energy = workbook.add_format({\n",
    "    'bold': True,\n",
    "    'text_wrap': True,\n",
    "    'valign': 'top',\n",
    "    'border': 1,\n",
    "    'bg_color':'#DDDEC1'\n",
    "})\n",
    "\n",
    "\n",
    "field_format_grhs = workbook.add_format({\n",
    "    'text_wrap': True,\n",
    "    'valign': 'top',\n",
    "    'border': 1,\n",
    "    'bg_color':'#FFE7E7',\n",
    "})"
   ]
  },
  {
   "cell_type": "code",
   "execution_count": 78,
   "metadata": {},
   "outputs": [],
   "source": [
    "row = OFFSET_ROW + 16\n",
    "OFFSET_COL = 1\n",
    "\n",
    "for i in energyPP:\n",
    "    for j in range(len(i)):\n",
    "        \n",
    "        if row == OFFSET_ROW + 16:\n",
    "            worksheet_write(header_format_energy)\n",
    "\n",
    "        elif j == len(i) - 1:\n",
    "            rowNum: str = str(row + 1)\n",
    "            formula = f'=ROUND(D{rowNum}*C{rowNum}/E{rowNum}, 2)'\n",
    "            worksheet_write_formula(formula, field_format_total)\n",
    "            \n",
    "        else:\n",
    "            worksheet_write(field_format)\n",
    "            \n",
    "    row += 1"
   ]
  },
  {
   "cell_type": "code",
   "execution_count": 79,
   "metadata": {},
   "outputs": [],
   "source": [
    "row = OFFSET_ROW + 16\n",
    "OFFSET_COL = 7\n",
    "\n",
    "for i in energyComp:\n",
    "    for j in range(len(i)):\n",
    "        \n",
    "        if row == OFFSET_ROW + 16:\n",
    "            worksheet_write(header_format_energy)\n",
    "\n",
    "        elif j == len(i) - 1:\n",
    "            rowNum: str = str(row + 1)\n",
    "            formula = f'=ROUND(J{rowNum}/K{rowNum}, 2)'\n",
    "            worksheet_write_formula(formula, field_format_total)\n",
    "            \n",
    "        else:\n",
    "            worksheet_write(field_format)\n",
    "            \n",
    "    row += 1"
   ]
  },
  {
   "cell_type": "code",
   "execution_count": 80,
   "metadata": {},
   "outputs": [],
   "source": [
    "arr = energyBoil[0]\n",
    "for j in range(len(arr)):\n",
    "    if j == len(arr) - 1:\n",
    "        worksheet.set_column(OFFSET_ROW + 16, j + 13, len(arr[j]) / 3)"
   ]
  },
  {
   "cell_type": "code",
   "execution_count": 81,
   "metadata": {},
   "outputs": [],
   "source": [
    "row = OFFSET_ROW + 16\n",
    "OFFSET_COL = 13\n",
    "\n",
    "for i in energyBoil:\n",
    "    for j in range(len(i)):\n",
    "        \n",
    "        if row == OFFSET_ROW + 16:\n",
    "            worksheet_write(header_format_energy)\n",
    "\n",
    "        elif j == len(i) - 1:\n",
    "            rowNum: str = str(row + 1)\n",
    "            formula = f'=ROUND(P{rowNum}/Q{rowNum}, 2)'\n",
    "            worksheet_write_formula(formula, field_format_total)\n",
    "            \n",
    "        else:\n",
    "            worksheet_write(field_format)\n",
    "            \n",
    "    row += 1"
   ]
  },
  {
   "cell_type": "code",
   "execution_count": 82,
   "metadata": {},
   "outputs": [],
   "source": [
    "title_format2 = workbook.add_format({\n",
    "    'bold': True,\n",
    "    'font_size': 18\n",
    "})"
   ]
  },
  {
   "cell_type": "code",
   "execution_count": 83,
   "metadata": {},
   "outputs": [
    {
     "data": {
      "text/plain": [
       "0"
      ]
     },
     "execution_count": 83,
     "metadata": {},
     "output_type": "execute_result"
    }
   ],
   "source": [
    "title3 = 'Расчет энергоэффективности'\n",
    "worksheet.write(OFFSET_ROW + 14, 7, title3, title_format2)\n",
    "worksheet.set_column(OFFSET_ROW + 14, 7, len(title3) - 14)"
   ]
  },
  {
   "cell_type": "code",
   "execution_count": 84,
   "metadata": {},
   "outputs": [],
   "source": [
    "writer.save()"
   ]
  },
  {
   "cell_type": "code",
   "execution_count": null,
   "metadata": {},
   "outputs": [],
   "source": []
  },
  {
   "cell_type": "code",
   "execution_count": null,
   "metadata": {},
   "outputs": [],
   "source": []
  }
 ],
 "metadata": {
  "kernelspec": {
   "display_name": "Python 3",
   "language": "python",
   "name": "python3"
  },
  "language_info": {
   "codemirror_mode": {
    "name": "ipython",
    "version": 3
   },
   "file_extension": ".py",
   "mimetype": "text/x-python",
   "name": "python",
   "nbconvert_exporter": "python",
   "pygments_lexer": "ipython3",
   "version": "3.9.1"
  }
 },
 "nbformat": 4,
 "nbformat_minor": 4
}
